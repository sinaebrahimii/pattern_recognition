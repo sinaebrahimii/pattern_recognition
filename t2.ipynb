{
 "cells": [
  {
   "cell_type": "markdown",
   "id": "8d51ba15",
   "metadata": {},
   "source": [
    "### تمرین دوم پردازش الگو\n",
    "## سینا ابراهیمی  \n",
    "## 4032524001\n",
    "  "
   ]
  },
  {
   "cell_type": "code",
   "execution_count": 16,
   "id": "initial_id",
   "metadata": {
    "ExecuteTime": {
     "end_time": "2024-10-31T18:40:50.800083500Z",
     "start_time": "2024-10-31T18:40:50.795947100Z"
    },
    "collapsed": true
   },
   "outputs": [],
   "source": [
    "import  cv2\n",
    "from cv2 import typing\n",
    "import numpy as np"
   ]
  },
  {
   "cell_type": "markdown",
   "id": "0bb288cf",
   "metadata": {},
   "source": [
    "| ![me1](me1.jpg) | ![me2](me2.jpg) |\n",
    "|-----------------|-----------------|\n",
    "| ![cr1](cr1.jpg) | ![cr2](cr2.jpg) |\n"
   ]
  },
  {
   "cell_type": "markdown",
   "id": "69be27c3",
   "metadata": {},
   "source": [
    " \n",
    "در قسمت اول کد کتابخانه های لازم ایمپورت شده و در قسمت بعدی عکس ها به صورت سیاه و سفید خوانده می شوند\n",
    "خروجی های دستور ها در زیر هر بلاک چاپ می شوند. برای نمونه خروجی بلاک زیر ابعاد عکس میباشد\n",
    "\n"
   ]
  },
  {
   "cell_type": "code",
   "execution_count": 64,
   "id": "68297746be8e6671",
   "metadata": {
    "ExecuteTime": {
     "end_time": "2024-10-31T18:40:50.801598300Z",
     "start_time": "2024-10-31T18:40:50.799460100Z"
    },
    "collapsed": false
   },
   "outputs": [
    {
     "data": {
      "text/plain": [
       "(291, 259)"
      ]
     },
     "execution_count": 64,
     "metadata": {},
     "output_type": "execute_result"
    }
   ],
   "source": [
    "me1=cv2.imread('me1.jpg',0)\n",
    "cr1=cv2.imread('cr1.jpg',0)\n",
    "me2=cv2.imread('me2.jpg',0)\n",
    "cr2=cv2.imread('cr2.jpg',0)\n",
    "me1.shape"
   ]
  },
  {
   "cell_type": "code",
   "execution_count": 66,
   "id": "5036b589",
   "metadata": {},
   "outputs": [
    {
     "data": {
      "text/plain": [
       "-1"
      ]
     },
     "execution_count": 66,
     "metadata": {},
     "output_type": "execute_result"
    }
   ],
   "source": [
    "cv2.imshow('image',me1)\n",
    "cv2.waitKey(0)"
   ]
  },
  {
   "cell_type": "markdown",
   "id": "bbc29596",
   "metadata": {},
   "source": [
    "## make_blocks\n",
    "این تابع به عنوان ورودی یک عکس را دریافت می کند و عملیات های ریسایز و استخراج طول و عرض و سپس تبدیل عکس به 9 بلاک را انجام می دهد. هربلاک ماتریسی از مقادیر پیکسل های عکس در آن ناحیه است و در مجموع یک لیست که شامل 9 بلاک است را به عنوان خروجی تولید می کند"
   ]
  },
  {
   "cell_type": "code",
   "execution_count": 53,
   "id": "33025bd09d335dcf",
   "metadata": {
    "ExecuteTime": {
     "end_time": "2024-10-31T18:40:50.821412900Z",
     "start_time": "2024-10-31T18:40:50.802597400Z"
    },
    "collapsed": false
   },
   "outputs": [],
   "source": [
    "def make_blocks(img:typing.MatLike,)->list[typing.MatLike]:\n",
    "    img=cv2.resize(img,(100,100))\n",
    "    width,height=img.shape[:2]\n",
    "    block_height = height // 3\n",
    "    block_width = width // 3\n",
    "\n",
    "    blocks :list =[]\n",
    "    for i in range(3):\n",
    "        for j in range(3):\n",
    "            start_y = i * block_height\n",
    "            start_x = j * block_width\n",
    "            end_y = start_y + block_height\n",
    "            end_x = start_x + block_width\n",
    "            block = img[start_y:end_y, start_x:end_x]\n",
    "            blocks.append(block)\n",
    "        \n",
    "    return blocks\n"
   ]
  },
  {
   "cell_type": "markdown",
   "id": "90197039",
   "metadata": {},
   "source": [
    "## mean_variance\n",
    "این تابع به عنوان ورودی یک لیست  را دریافت می کند و دو بردار میانگین و واریانس را به عنوان خروجی بر می گرداند\n",
    "اگر \n",
    "show=true  \n",
    "به تابع داده شود میانگین و واریانس بدست امده برای هر بلاک را نیز محاسبه می کند"
   ]
  },
  {
   "cell_type": "code",
   "execution_count": 38,
   "id": "5309fe6c",
   "metadata": {},
   "outputs": [],
   "source": [
    "def mean_variance(blocks:list[typing.MatLike],show:bool =False)->tuple[list[float],list[float]]:\n",
    "    means = []\n",
    "    vars =[]\n",
    "\n",
    "    for  block in blocks:\n",
    "        means.append(block.mean())\n",
    "        vars.append(block.var())\n",
    "        if show:\n",
    "            print(\"Mean:\")\n",
    "            print(block.mean())\n",
    "            print(\"Variance:\")\n",
    "            print(block.var())\n",
    "    return means,vars"
   ]
  },
  {
   "cell_type": "markdown",
   "id": "e50d462e",
   "metadata": {},
   "source": [
    "## corr\n",
    "این تابع دو لیست را دریافت می کند که محتوای هر لیست ماتریس های تصاویر هستند و همسبتگی را برای هر بلاک محاسبه میکند و یک لیست برمیگرداند"
   ]
  },
  {
   "cell_type": "code",
   "execution_count": 49,
   "id": "53a865be",
   "metadata": {},
   "outputs": [],
   "source": [
    "def corr(blocks_1:list[typing.MatLike],blocks_2 :list[typing.MatLike]):\n",
    "    corrs=[]\n",
    "    for block in range(len(blocks_1)):\n",
    "        result=cv2.matchTemplate(blocks_1[block],blocks_2[block],cv2.TM_CCOEFF_NORMED)\n",
    "        corrs.append(result)\n",
    "    return corrs\n"
   ]
  },
  {
   "cell_type": "code",
   "execution_count": 72,
   "id": "ddad79b1",
   "metadata": {},
   "outputs": [
    {
     "name": "stdout",
     "output_type": "stream",
     "text": [
      "Mean:\n",
      "162.90335169880623\n",
      "Variance:\n",
      "1389.3880420259866\n",
      "Mean:\n",
      "117.21280991735537\n",
      "Variance:\n",
      "6076.700579707671\n",
      "Mean:\n",
      "176.78053259871442\n",
      "Variance:\n",
      "2558.3994924619765\n",
      "Mean:\n",
      "190.07415059687787\n",
      "Variance:\n",
      "2742.9524906696993\n",
      "Mean:\n",
      "147.95454545454547\n",
      "Variance:\n",
      "2705.385445362718\n",
      "Mean:\n",
      "174.65036730945823\n",
      "Variance:\n",
      "3438.090107762237\n",
      "Mean:\n",
      "126.6919191919192\n",
      "Variance:\n",
      "4068.7186766656455\n",
      "Mean:\n",
      "129.45385674931129\n",
      "Variance:\n",
      "2870.7864382935286\n",
      "Mean:\n",
      "165.33861340679522\n",
      "Variance:\n",
      "5078.0077009240085\n"
     ]
    },
    {
     "data": {
      "text/plain": [
       "([np.float64(162.90335169880623),\n",
       "  np.float64(117.21280991735537),\n",
       "  np.float64(176.78053259871442),\n",
       "  np.float64(190.07415059687787),\n",
       "  np.float64(147.95454545454547),\n",
       "  np.float64(174.65036730945823),\n",
       "  np.float64(126.6919191919192),\n",
       "  np.float64(129.45385674931129),\n",
       "  np.float64(165.33861340679522)],\n",
       " [np.float64(1389.3880420259866),\n",
       "  np.float64(6076.700579707671),\n",
       "  np.float64(2558.3994924619765),\n",
       "  np.float64(2742.9524906696993),\n",
       "  np.float64(2705.385445362718),\n",
       "  np.float64(3438.090107762237),\n",
       "  np.float64(4068.7186766656455),\n",
       "  np.float64(2870.7864382935286),\n",
       "  np.float64(5078.0077009240085)])"
      ]
     },
     "execution_count": 72,
     "metadata": {},
     "output_type": "execute_result"
    }
   ],
   "source": [
    "mean_variance(blocks=make_blocks(me1),show=True)"
   ]
  },
  {
   "cell_type": "code",
   "execution_count": 69,
   "id": "c4e1af01173f95c7",
   "metadata": {
    "ExecuteTime": {
     "start_time": "2024-10-31T18:40:50.816414600Z"
    },
    "collapsed": false
   },
   "outputs": [
    {
     "name": "stdout",
     "output_type": "stream",
     "text": [
      "[[-0.1784321]]\n",
      "[[0.20224206]]\n",
      "[[0.37763175]]\n",
      "[[-0.24517709]]\n",
      "[[0.05312545]]\n",
      "[[0.34947777]]\n",
      "[[0.10050883]]\n",
      "[[-0.23863754]]\n",
      "[[0.23329674]]\n"
     ]
    }
   ],
   "source": [
    "blocks_1 = make_blocks(me1)\n",
    "blocks_2 = make_blocks(me2)\n",
    "\n",
    "corrs=corr(blocks_1,blocks_2)\n",
    "for cor in corrs:\n",
    "    print (cor)\n"
   ]
  },
  {
   "cell_type": "code",
   "execution_count": 70,
   "id": "56006843",
   "metadata": {},
   "outputs": [
    {
     "name": "stdout",
     "output_type": "stream",
     "text": [
      "[[0.05574083]]\n",
      "[[0.75017387]]\n",
      "[[-0.07759745]]\n",
      "[[0.61482656]]\n",
      "[[0.3065455]]\n",
      "[[0.414597]]\n",
      "[[-0.06056563]]\n",
      "[[-0.27683675]]\n",
      "[[-0.44027397]]\n"
     ]
    }
   ],
   "source": [
    "blocks_1 = make_blocks(cr1)\n",
    "blocks_2 = make_blocks(cr2)\n",
    "\n",
    "corrs=corr(blocks_1,blocks_2)\n",
    "for cor in corrs:\n",
    "    print (cor)"
   ]
  },
  {
   "cell_type": "code",
   "execution_count": 71,
   "id": "be458aac",
   "metadata": {},
   "outputs": [
    {
     "name": "stdout",
     "output_type": "stream",
     "text": [
      "[[-0.20526606]]\n",
      "[[-0.43739888]]\n",
      "[[0.22741626]]\n",
      "[[-0.44699085]]\n",
      "[[-0.25414672]]\n",
      "[[0.03126638]]\n",
      "[[-0.17683779]]\n",
      "[[-0.01686355]]\n",
      "[[-0.42945746]]\n"
     ]
    }
   ],
   "source": [
    "blocks_1 = make_blocks(me1)\n",
    "blocks_2 = make_blocks(cr1)\n",
    "\n",
    "corrs=corr(blocks_1,blocks_2)\n",
    "for cor in corrs:\n",
    "    print (cor)"
   ]
  },
  {
   "cell_type": "markdown",
   "id": "480615aa",
   "metadata": {},
   "source": [
    "چهار عکس که دو تای آن از چهره خودم و دوتای آن    می باشد را به توابع نوشته شده داده شده..کم ترین مقادیر همسبگی برای تصویر خودم و تصویر رونالدو میباشد.اما همبستگی ها برای تصاویری که از یک فرد یکسان است بیشتر است"
   ]
  }
 ],
 "metadata": {
  "kernelspec": {
   "display_name": "Python 3",
   "language": "python",
   "name": "python3"
  },
  "language_info": {
   "codemirror_mode": {
    "name": "ipython",
    "version": 3
   },
   "file_extension": ".py",
   "mimetype": "text/x-python",
   "name": "python",
   "nbconvert_exporter": "python",
   "pygments_lexer": "ipython3",
   "version": "3.11.2"
  }
 },
 "nbformat": 4,
 "nbformat_minor": 5
}
