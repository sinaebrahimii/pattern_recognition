{
 "cells": [
  {
   "cell_type": "code",
   "execution_count": 13,
   "metadata": {},
   "outputs": [],
   "source": [
    "import numpy as np\n",
    "import cv2\n",
    "from sklearn.linear_model import LinearRegression\n",
    "from sklearn.feature_selection import SequentialFeatureSelector\n",
    "from scipy.spatial.distance import euclidean\n",
    "from scipy.stats import pearsonr\n",
    "from utils.main import lbp,lpq\n",
    "from skimage.feature import hog\n"
   ]
  },
  {
   "cell_type": "code",
   "execution_count": 12,
   "metadata": {},
   "outputs": [
    {
     "data": {
      "text/plain": [
       "(232, 217, 3)"
      ]
     },
     "execution_count": 12,
     "metadata": {},
     "output_type": "execute_result"
    }
   ],
   "source": [
    "img=cv2.imread(\"cr1.jpg\",1)\n",
    "img_gray=cv2.cvtColor(img,cv2.COLOR_BGR2GRAY)\n",
    "img.shape"
   ]
  },
  {
   "cell_type": "code",
   "execution_count": null,
   "metadata": {},
   "outputs": [],
   "source": []
  },
  {
   "cell_type": "code",
   "execution_count": 8,
   "metadata": {},
   "outputs": [
    {
     "data": {
      "text/plain": [
       "(232, 217)"
      ]
     },
     "execution_count": 8,
     "metadata": {},
     "output_type": "execute_result"
    }
   ],
   "source": [
    "img_lbp=lbp(img)\n",
    "img_lbp.shape"
   ]
  },
  {
   "cell_type": "code",
   "execution_count": null,
   "metadata": {},
   "outputs": [
    {
     "data": {
      "text/plain": [
       "(232, 217)"
      ]
     },
     "execution_count": 10,
     "metadata": {},
     "output_type": "execute_result"
    }
   ],
   "source": [
    "img_lpq=lpq(img_gray)\n",
    "img_lpq.shape"
   ]
  },
  {
   "cell_type": "code",
   "execution_count": 14,
   "metadata": {},
   "outputs": [
    {
     "data": {
      "text/plain": [
       "(232, 217)"
      ]
     },
     "execution_count": 14,
     "metadata": {},
     "output_type": "execute_result"
    }
   ],
   "source": [
    "hog_features,img_hog = hog(\n",
    "    img_gray, \n",
    "    orientations=9, \n",
    "    pixels_per_cell=(8, 8),\n",
    "    cells_per_block=(2, 2), \n",
    "    visualize=True,\n",
    "    channel_axis=None\n",
    ")\n",
    "img_hog.shape"
   ]
  },
  {
   "cell_type": "code",
   "execution_count": 17,
   "metadata": {},
   "outputs": [],
   "source": [
    "lbp_flattened=img_lbp.flatten()\n",
    "lpq_flattened=img_lpq.flatten()\n",
    "hog_flattened=img_hog.flatten()\n",
    "original_flattened=img_gray.flatten()"
   ]
  },
  {
   "cell_type": "code",
   "execution_count": 26,
   "metadata": {},
   "outputs": [
    {
     "name": "stdout",
     "output_type": "stream",
     "text": [
      "Selected features indices: [ 18  20  35  44  45  46  71 199 203 208]\n",
      "Euclidean distance: 324.9122958584362\n",
      "Pearson correlation coefficient: -0.30040055077890676\n"
     ]
    }
   ],
   "source": [
    "\n",
    "\n",
    "# Prepare the data for feature selection\n",
    "X = lbp_flattened.reshape(-1, 1)\n",
    "y = original_flattened\n",
    "\n",
    "# Create a Linear Regression model\n",
    "model = LinearRegression()\n",
    "\n",
    "# Perform Sequential Feature Selection\n",
    "sfs = SequentialFeatureSelector(model, n_features_to_select=10, direction='forward')\n",
    "\n",
    "# Fit the model\n",
    "sfs.fit(img_lbp, img_gray)\n",
    "\n",
    "# Get the indices of the selected features\n",
    "selected_features_idx = sfs.get_support(indices=True)\n",
    "\n",
    "# Select the best features\n",
    "selected_features = lbp_flattened[selected_features_idx]\n",
    "\n",
    "# Compute Euclidean distance for selected features\n",
    "distance = euclidean(original_flattened[selected_features_idx], selected_features)\n",
    "\n",
    "# Compute Pearson correlation for selected features\n",
    "correlation, _ = pearsonr(original_flattened[selected_features_idx], selected_features)\n",
    "\n",
    "print(f\"Selected features indices: {selected_features_idx}\")\n",
    "print(f\"Euclidean distance: {distance}\")\n",
    "print(f\"Pearson correlation coefficient: {correlation}\")\n"
   ]
  },
  {
   "cell_type": "code",
   "execution_count": null,
   "metadata": {},
   "outputs": [],
   "source": [
    "\n",
    "\n",
    "# Perform Sequential Feature Selection\n",
    "sbs = SequentialFeatureSelector(model, n_features_to_select=10, direction='backward')\n",
    "\n",
    "# Fit the model\n",
    "sbs.fit(img_lbp, img_gray)\n",
    "\n",
    "# Get the indices of the selected features\n",
    "selected_features_idx = sbs.get_support(indices=True)\n",
    "\n",
    "# Select the best features\n",
    "selected_features = lbp_flattened[selected_features_idx]\n",
    "\n",
    "# Compute Euclidean distance for selected features\n",
    "distance = euclidean(original_flattened[selected_features_idx], selected_features)\n",
    "\n",
    "# Compute Pearson correlation for selected features\n",
    "correlation, _ = pearsonr(original_flattened[selected_features_idx], selected_features)\n",
    "\n",
    "print(f\"Selected features indices: {selected_features_idx}\")\n",
    "print(f\"Euclidean distance: {distance}\")\n",
    "print(f\"Pearson correlation coefficient: {correlation}\")"
   ]
  }
 ],
 "metadata": {
  "kernelspec": {
   "display_name": ".venv",
   "language": "python",
   "name": "python3"
  },
  "language_info": {
   "codemirror_mode": {
    "name": "ipython",
    "version": 3
   },
   "file_extension": ".py",
   "mimetype": "text/x-python",
   "name": "python",
   "nbconvert_exporter": "python",
   "pygments_lexer": "ipython3",
   "version": "3.11.2"
  }
 },
 "nbformat": 4,
 "nbformat_minor": 2
}
