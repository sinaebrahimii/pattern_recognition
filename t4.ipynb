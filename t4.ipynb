{
 "cells": [
  {
   "cell_type": "code",
   "execution_count": 22,
   "metadata": {},
   "outputs": [],
   "source": [
    "\n",
    "import cv2\n",
    "from sklearn.linear_model import LinearRegression\n",
    "from sklearn.feature_selection import SequentialFeatureSelector\n",
    "from scipy.spatial.distance import euclidean\n",
    "from scipy.stats import pearsonr\n",
    "from utils.main import lbp,lpq\n",
    "from skimage.feature import hog\n"
   ]
  },
  {
   "cell_type": "markdown",
   "metadata": {},
   "source": [
    "### Short Summary\n",
    "\n",
    "The `lbp` and `lpq` functions were imported from `practice 3`, and the HOG (Histogram of Oriented Gradients) image was built using SciPy."
   ]
  },
  {
   "cell_type": "code",
   "execution_count": 23,
   "metadata": {},
   "outputs": [
    {
     "data": {
      "text/plain": [
       "(232, 217, 3)"
      ]
     },
     "execution_count": 23,
     "metadata": {},
     "output_type": "execute_result"
    }
   ],
   "source": [
    "img=cv2.imread(\"cr1.jpg\",1)\n",
    "img_gray=cv2.cvtColor(img,cv2.COLOR_BGR2GRAY)\n",
    "img.shape"
   ]
  },
  {
   "cell_type": "code",
   "execution_count": 24,
   "metadata": {},
   "outputs": [
    {
     "data": {
      "text/plain": [
       "(232, 217)"
      ]
     },
     "execution_count": 24,
     "metadata": {},
     "output_type": "execute_result"
    }
   ],
   "source": [
    "img_lbp=lbp(img)\n",
    "img_lbp.shape"
   ]
  },
  {
   "cell_type": "code",
   "execution_count": 25,
   "metadata": {},
   "outputs": [
    {
     "data": {
      "text/plain": [
       "(232, 217)"
      ]
     },
     "execution_count": 25,
     "metadata": {},
     "output_type": "execute_result"
    }
   ],
   "source": [
    "img_lpq=lpq(img_gray)\n",
    "img_lpq.shape"
   ]
  },
  {
   "cell_type": "code",
   "execution_count": 26,
   "metadata": {},
   "outputs": [
    {
     "data": {
      "text/plain": [
       "(232, 217)"
      ]
     },
     "execution_count": 26,
     "metadata": {},
     "output_type": "execute_result"
    }
   ],
   "source": [
    "hog_features,img_hog = hog(\n",
    "    img_gray, \n",
    "    orientations=9, \n",
    "    pixels_per_cell=(8, 8),\n",
    "    cells_per_block=(2, 2), \n",
    "    visualize=True,\n",
    "    channel_axis=None\n",
    ")\n",
    "img_hog.shape"
   ]
  },
  {
   "cell_type": "markdown",
   "metadata": {},
   "source": [
    "### Feature Count Summary\n",
    "\n",
    "- **Calculation**: **\\( 232 \\times 217 = 50,344 \\)**\n",
    "- **Conclusion**: Each image has **50,344 features**.\n",
    "\n"
   ]
  },
  {
   "cell_type": "code",
   "execution_count": 27,
   "metadata": {},
   "outputs": [],
   "source": [
    "lbp_flattened=img_lbp.flatten()\n",
    "lpq_flattened=img_lpq.flatten()\n",
    "hog_flattened=img_hog.flatten()\n",
    "original_flattened=img_gray.flatten()"
   ]
  },
  {
   "cell_type": "code",
   "execution_count": 28,
   "metadata": {},
   "outputs": [
    {
     "name": "stdout",
     "output_type": "stream",
     "text": [
      "Selected features indices: [ 18  20  35  44  45  46  71 199 203 208]\n",
      "Euclidean distance: 324.9122958584362\n",
      "Pearson correlation coefficient: -0.30040055077890676\n"
     ]
    }
   ],
   "source": [
    "\n",
    "\n",
    "# Prepare the data for feature selection\n",
    "X = lbp_flattened.reshape(-1, 1)\n",
    "y = original_flattened\n",
    "\n",
    "# Create a Linear Regression model\n",
    "model = LinearRegression()\n",
    "\n",
    "# Perform Sequential Feature Selection\n",
    "sfs = SequentialFeatureSelector(model, n_features_to_select=10, direction='forward')\n",
    "\n",
    "# Fit the model\n",
    "sfs.fit(img_lbp, img_gray)\n",
    "\n",
    "# Get the indices of the selected features\n",
    "selected_features_idx = sfs.get_support(indices=True)\n",
    "\n",
    "# Select the best features\n",
    "selected_features = lbp_flattened[selected_features_idx]\n",
    "\n",
    "# Compute Euclidean distance for selected features\n",
    "distance = euclidean(original_flattened[selected_features_idx], selected_features)\n",
    "\n",
    "# Compute Pearson correlation for selected features\n",
    "correlation, _ = pearsonr(original_flattened[selected_features_idx], selected_features)\n",
    "\n",
    "print(f\"Selected features indices: {selected_features_idx}\")\n",
    "print(f\"Euclidean distance: {distance}\")\n",
    "print(f\"Pearson correlation coefficient: {correlation}\")\n"
   ]
  },
  {
   "cell_type": "code",
   "execution_count": 29,
   "metadata": {},
   "outputs": [],
   "source": [
    "\n",
    "\n",
    "# Perform Sequential Feature Selection\n",
    "# sbs = SequentialFeatureSelector(model, n_features_to_select=10, direction='backward')\n",
    "\n",
    "# # Fit the model\n",
    "# sbs.fit(img_lbp, img_gray)\n",
    "\n",
    "# # Get the indices of the selected features\n",
    "# selected_features_idx = sbs.get_support(indices=True)\n",
    "\n",
    "# # Select the best features\n",
    "# selected_features = lbp_flattened[selected_features_idx]\n",
    "\n",
    "# # Compute Euclidean distance for selected features\n",
    "# distance = euclidean(original_flattened[selected_features_idx], selected_features)\n",
    "\n",
    "# # Compute Pearson correlation for selected features\n",
    "# correlation, _ = pearsonr(original_flattened[selected_features_idx], selected_features)\n",
    "\n",
    "# print(f\"Selected features indices: {selected_features_idx}\")\n",
    "# print(f\"Euclidean distance: {distance}\")\n",
    "# print(f\"Pearson correlation coefficient: {correlation}\")"
   ]
  },
  {
   "cell_type": "markdown",
   "metadata": {},
   "source": [
    "### Summary: Challenges of Using SBS and SBFS on High-Dimensional Image Data\n",
    "\n",
    "Given the dimensionality of images (200x200 pixels), which results in a total of 40,000 features, employing Sequential Backward Selection (SBS) and Sequential Backward Floating Selection (SBFS) may be impractical due to the following reasons:\n",
    "\n",
    "1. **High Dimensionality**: With 40,000 features, these methods would need to evaluate an enormous number of possible feature subsets, leading to an exponential increase in computation time and complexity.\n",
    "\n",
    "2. **Iterative Process**: Both SBS and SBFS involve iterative processes of adding and removing features. For each iteration, the algorithm evaluates the model performance, which becomes prohibitively time-consuming with such a large feature space.\n",
    "\n",
    "3. **Computational Load**: Evaluating each subset of features, especially when many features are involved, can significantly slow down the process, making it impractical for real-time or near-real-time applications.\n",
    "\n",
    "4. **Scalability Issues**: These methods are more suited for datasets with a smaller number of features. Scaling them to high-dimensional data such as 200x200 images requires substantial computational resources and time, which may not be feasible in most scenarios.\n",
    "\n",
    "### Alternative Solutions:\n",
    "\n",
    "1. **Dimensionality Reduction**: Consider using techniques like Principal Component Analysis (PCA) or Singular Value Decomposition (SVD) to reduce the number of features before applying feature selection methods.\n",
    "2. **Feature Engineering**: Extract meaningful features from the images (e.g., edges, textures) using methods like Convolutional Neural Networks (CNNs) which automatically learn and select relevant features.\n",
    "3. **Randomized Algorithms**: Use randomized feature selection algorithms that can provide near-optimal solutions with significantly less computational effort.\n",
    "\n",
    "By considering these alternatives, effective feature selection can be achieved without the prohibitive computational cost associated with SBS or SBFS on high-dimensional data."
   ]
  },
  {
   "cell_type": "code",
   "execution_count": 30,
   "metadata": {},
   "outputs": [
    {
     "name": "stdout",
     "output_type": "stream",
     "text": [
      "(28, 34, 35, 51, 60, 92, 123, 148, 179, 182)\n"
     ]
    }
   ],
   "source": [
    "\n",
    "from sklearn.linear_model import LinearRegression\n",
    "from mlxtend.feature_selection import SequentialFeatureSelector as SFS\n",
    "\n",
    "\n",
    "# Perform Sequential Floating Forward Selection (SFFS)\n",
    "sffs = SFS(model, \n",
    "          k_features=10,  # Number of features to select\n",
    "          forward=True,\n",
    "          floating=True,\n",
    "          scoring='neg_mean_squared_error',\n",
    "          cv=0)  # No cross-validation for simplicity\n",
    "\n",
    "# Fit the model\n",
    "sffs.fit(img_hog, img_gray)\n",
    "\n",
    "# Get the indices of the selected features\n",
    "selected_features_idx = sffs.k_feature_idx_\n",
    "print(selected_features_idx)\n",
    "# Select the best features\n",
    "selected_features = hog_flattened[list(selected_features_idx)] #lbp_flattened[selected_features_idx]\n",
    "# Compute Euclidean distance for selected features \n",
    "\n",
    "# Compute Euclidean distance for selected features\n",
    "# distance = euclidean(original_flattened[selected_features_idx], selected_features)\n",
    "# correlation, _ = pearsonr(original_flattened[selected_features_idx], selected_features)\n",
    "# print(f\"Selected features indices: {selected_features_idx}\")\n",
    "# print(f\"Euclidean distance: {distance}\")\n"
   ]
  },
  {
   "cell_type": "code",
   "execution_count": 31,
   "metadata": {},
   "outputs": [
    {
     "name": "stdout",
     "output_type": "stream",
     "text": [
      "Selected features indices: (28, 34, 35, 51, 60, 92, 123, 148, 179, 182)\n",
      "Euclidean distance: 96.52978814852958\n"
     ]
    }
   ],
   "source": [
    "distance = euclidean(original_flattened[list(selected_features_idx)], selected_features) \n",
    "print(f\"Selected features indices: {selected_features_idx}\")\n",
    "print(f\"Euclidean distance: {distance}\")"
   ]
  }
 ],
 "metadata": {
  "kernelspec": {
   "display_name": ".venv",
   "language": "python",
   "name": "python3"
  },
  "language_info": {
   "codemirror_mode": {
    "name": "ipython",
    "version": 3
   },
   "file_extension": ".py",
   "mimetype": "text/x-python",
   "name": "python",
   "nbconvert_exporter": "python",
   "pygments_lexer": "ipython3",
   "version": "3.11.2"
  }
 },
 "nbformat": 4,
 "nbformat_minor": 2
}
